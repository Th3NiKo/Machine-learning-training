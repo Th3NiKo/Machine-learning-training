{
 "cells": [
  {
   "cell_type": "markdown",
   "id": "89b30b2b",
   "metadata": {
    "papermill": {
     "duration": 0.023504,
     "end_time": "2021-10-06T14:29:10.740945",
     "exception": false,
     "start_time": "2021-10-06T14:29:10.717441",
     "status": "completed"
    },
    "tags": []
   },
   "source": [
    "# Imports"
   ]
  },
  {
   "cell_type": "code",
   "execution_count": 1,
   "id": "719a6648",
   "metadata": {
    "_cell_guid": "b1076dfc-b9ad-4769-8c92-a6c4dae69d19",
    "_uuid": "8f2839f25d086af736a60e9eeb907d3b93b6e0e5",
    "execution": {
     "iopub.execute_input": "2021-10-06T14:29:10.792428Z",
     "iopub.status.busy": "2021-10-06T14:29:10.790943Z",
     "iopub.status.idle": "2021-10-06T14:29:15.178344Z",
     "shell.execute_reply": "2021-10-06T14:29:15.177686Z",
     "shell.execute_reply.started": "2021-10-06T11:49:10.077081Z"
    },
    "papermill": {
     "duration": 4.413293,
     "end_time": "2021-10-06T14:29:15.178497",
     "exception": false,
     "start_time": "2021-10-06T14:29:10.765204",
     "status": "completed"
    },
    "tags": []
   },
   "outputs": [
    {
     "name": "stderr",
     "output_type": "stream",
     "text": [
      "2021-10-06 14:29:11.343312: I tensorflow/stream_executor/platform/default/dso_loader.cc:49] Successfully opened dynamic library libcudart.so.11.0\n"
     ]
    }
   ],
   "source": [
    "import numpy as np\n",
    "import pandas as pd\n",
    "import tensorflow as tf\n",
    "import matplotlib.pyplot as plt\n",
    "\n",
    "from tensorflow import keras\n",
    "from tensorflow.keras.models import Sequential\n",
    "from tensorflow.keras.layers import Dense, Conv2D, MaxPooling2D, Flatten, Dropout, ZeroPadding2D, BatchNormalization\n",
    "from tensorflow.keras import regularizers"
   ]
  },
  {
   "cell_type": "markdown",
   "id": "bf6ac6f4",
   "metadata": {
    "papermill": {
     "duration": 0.026094,
     "end_time": "2021-10-06T14:29:15.229572",
     "exception": false,
     "start_time": "2021-10-06T14:29:15.203478",
     "status": "completed"
    },
    "tags": []
   },
   "source": [
    "# Data loading"
   ]
  },
  {
   "cell_type": "markdown",
   "id": "cbcb2c8b",
   "metadata": {
    "papermill": {
     "duration": 0.025545,
     "end_time": "2021-10-06T14:29:15.281701",
     "exception": false,
     "start_time": "2021-10-06T14:29:15.256156",
     "status": "completed"
    },
    "tags": []
   },
   "source": [
    "Some settings"
   ]
  },
  {
   "cell_type": "code",
   "execution_count": 2,
   "id": "ee568f0f",
   "metadata": {
    "execution": {
     "iopub.execute_input": "2021-10-06T14:29:15.337392Z",
     "iopub.status.busy": "2021-10-06T14:29:15.335923Z",
     "iopub.status.idle": "2021-10-06T14:29:15.339841Z",
     "shell.execute_reply": "2021-10-06T14:29:15.339358Z",
     "shell.execute_reply.started": "2021-10-06T13:09:01.176746Z"
    },
    "papermill": {
     "duration": 0.032504,
     "end_time": "2021-10-06T14:29:15.339945",
     "exception": false,
     "start_time": "2021-10-06T14:29:15.307441",
     "status": "completed"
    },
    "tags": []
   },
   "outputs": [],
   "source": [
    "seed = 2021\n",
    "dataset_path =  \"../input/intel-image-classification/seg_train/seg_train/\"\n",
    "test_dataset_path = \"../input/intel-image-classification/seg_test/seg_test/\"\n",
    "num_classes = 6\n",
    "\n",
    "validation_split = 0.15\n",
    "width = 150\n",
    "height = 150\n",
    "num_batches = 16\n",
    "learning_rate = 0.0001\n",
    "epochs = 150"
   ]
  },
  {
   "cell_type": "markdown",
   "id": "9d5e2fe9",
   "metadata": {
    "papermill": {
     "duration": 0.025093,
     "end_time": "2021-10-06T14:29:15.389115",
     "exception": false,
     "start_time": "2021-10-06T14:29:15.364022",
     "status": "completed"
    },
    "tags": []
   },
   "source": [
    "Lets create data generators to artificialy extend our database. We will use diffrent generator for validaton/prediction data"
   ]
  },
  {
   "cell_type": "code",
   "execution_count": 3,
   "id": "0100adc7",
   "metadata": {
    "execution": {
     "iopub.execute_input": "2021-10-06T14:29:15.441977Z",
     "iopub.status.busy": "2021-10-06T14:29:15.441129Z",
     "iopub.status.idle": "2021-10-06T14:29:15.443183Z",
     "shell.execute_reply": "2021-10-06T14:29:15.443570Z",
     "shell.execute_reply.started": "2021-10-06T12:14:02.922497Z"
    },
    "papermill": {
     "duration": 0.030734,
     "end_time": "2021-10-06T14:29:15.443691",
     "exception": false,
     "start_time": "2021-10-06T14:29:15.412957",
     "status": "completed"
    },
    "tags": []
   },
   "outputs": [],
   "source": [
    "train_datagen = keras.preprocessing.image.ImageDataGenerator(\n",
    "    rescale = 1./255,\n",
    "    rotation_range = 25,\n",
    "    zoom_range = 0.15,\n",
    "    width_shift_range=0.15,\n",
    "    height_shift_range=0.15,\n",
    "    shear_range=0.15,\n",
    "    horizontal_flip=True,\n",
    "    validation_split = validation_split,\n",
    ")"
   ]
  },
  {
   "cell_type": "code",
   "execution_count": 4,
   "id": "bdadf1f8",
   "metadata": {
    "execution": {
     "iopub.execute_input": "2021-10-06T14:29:15.496621Z",
     "iopub.status.busy": "2021-10-06T14:29:15.495370Z",
     "iopub.status.idle": "2021-10-06T14:29:15.497577Z",
     "shell.execute_reply": "2021-10-06T14:29:15.498026Z",
     "shell.execute_reply.started": "2021-10-06T12:14:03.856832Z"
    },
    "papermill": {
     "duration": 0.030274,
     "end_time": "2021-10-06T14:29:15.498151",
     "exception": false,
     "start_time": "2021-10-06T14:29:15.467877",
     "status": "completed"
    },
    "tags": []
   },
   "outputs": [],
   "source": [
    "val_datagen = keras.preprocessing.image.ImageDataGenerator(\n",
    "    rescale = 1./255,\n",
    "    validation_split = validation_split,\n",
    ")"
   ]
  },
  {
   "cell_type": "code",
   "execution_count": 5,
   "id": "3b5fb61c",
   "metadata": {
    "execution": {
     "iopub.execute_input": "2021-10-06T14:29:15.547003Z",
     "iopub.status.busy": "2021-10-06T14:29:15.546506Z",
     "iopub.status.idle": "2021-10-06T14:29:15.549628Z",
     "shell.execute_reply": "2021-10-06T14:29:15.550395Z",
     "shell.execute_reply.started": "2021-10-06T13:08:06.570592Z"
    },
    "papermill": {
     "duration": 0.029395,
     "end_time": "2021-10-06T14:29:15.550511",
     "exception": false,
     "start_time": "2021-10-06T14:29:15.521116",
     "status": "completed"
    },
    "tags": []
   },
   "outputs": [],
   "source": [
    "test_datagen = keras.preprocessing.image.ImageDataGenerator(\n",
    "    rescale = 1./255,\n",
    ")"
   ]
  },
  {
   "cell_type": "markdown",
   "id": "b16ec64c",
   "metadata": {
    "papermill": {
     "duration": 0.02221,
     "end_time": "2021-10-06T14:29:15.595012",
     "exception": false,
     "start_time": "2021-10-06T14:29:15.572802",
     "status": "completed"
    },
    "tags": []
   },
   "source": [
    "Load data as flow"
   ]
  },
  {
   "cell_type": "code",
   "execution_count": 6,
   "id": "d7682779",
   "metadata": {
    "execution": {
     "iopub.execute_input": "2021-10-06T14:29:15.644753Z",
     "iopub.status.busy": "2021-10-06T14:29:15.644261Z",
     "iopub.status.idle": "2021-10-06T14:29:35.327491Z",
     "shell.execute_reply": "2021-10-06T14:29:35.328387Z",
     "shell.execute_reply.started": "2021-10-06T12:14:05.192434Z"
    },
    "papermill": {
     "duration": 19.710657,
     "end_time": "2021-10-06T14:29:35.328586",
     "exception": false,
     "start_time": "2021-10-06T14:29:15.617929",
     "status": "completed"
    },
    "tags": []
   },
   "outputs": [
    {
     "name": "stdout",
     "output_type": "stream",
     "text": [
      "Found 11932 images belonging to 6 classes.\n",
      "Found 2102 images belonging to 6 classes.\n"
     ]
    }
   ],
   "source": [
    "train_dataset = train_datagen.flow_from_directory(\n",
    "    dataset_path, \n",
    "    batch_size = num_batches, \n",
    "    target_size = (width, height), \n",
    "    subset = \"training\", \n",
    "    seed = seed\n",
    ")\n",
    "\n",
    "validation_dataset = val_datagen.flow_from_directory(\n",
    "    dataset_path, \n",
    "    batch_size = num_batches, \n",
    "    target_size = (width, height), \n",
    "    subset = \"validation\", \n",
    "    seed = seed\n",
    ")"
   ]
  },
  {
   "cell_type": "code",
   "execution_count": 7,
   "id": "f39da711",
   "metadata": {
    "execution": {
     "iopub.execute_input": "2021-10-06T14:29:35.379736Z",
     "iopub.status.busy": "2021-10-06T14:29:35.379231Z",
     "iopub.status.idle": "2021-10-06T14:29:36.098495Z",
     "shell.execute_reply": "2021-10-06T14:29:36.099193Z",
     "shell.execute_reply.started": "2021-10-06T13:09:13.585108Z"
    },
    "papermill": {
     "duration": 0.746645,
     "end_time": "2021-10-06T14:29:36.099433",
     "exception": false,
     "start_time": "2021-10-06T14:29:35.352788",
     "status": "completed"
    },
    "tags": []
   },
   "outputs": [
    {
     "name": "stdout",
     "output_type": "stream",
     "text": [
      "Found 3000 images belonging to 6 classes.\n"
     ]
    }
   ],
   "source": [
    "test_dataset = test_datagen.flow_from_directory(\n",
    "    test_dataset_path, \n",
    "    batch_size = num_batches, \n",
    "    target_size = (width, height),\n",
    "    seed = seed\n",
    ")"
   ]
  },
  {
   "cell_type": "markdown",
   "id": "18b2aa3d",
   "metadata": {
    "papermill": {
     "duration": 0.023007,
     "end_time": "2021-10-06T14:29:36.146755",
     "exception": false,
     "start_time": "2021-10-06T14:29:36.123748",
     "status": "completed"
    },
    "tags": []
   },
   "source": [
    "# Model preparation"
   ]
  },
  {
   "cell_type": "markdown",
   "id": "91b6f66a",
   "metadata": {
    "papermill": {
     "duration": 0.023392,
     "end_time": "2021-10-06T14:29:36.193366",
     "exception": false,
     "start_time": "2021-10-06T14:29:36.169974",
     "status": "completed"
    },
    "tags": []
   },
   "source": [
    "I am gonna use pretrained xception model and try to finetune it. Lets freeze core layers at first."
   ]
  },
  {
   "cell_type": "code",
   "execution_count": 8,
   "id": "d4bbec5d",
   "metadata": {
    "execution": {
     "iopub.execute_input": "2021-10-06T14:29:36.247708Z",
     "iopub.status.busy": "2021-10-06T14:29:36.246715Z",
     "iopub.status.idle": "2021-10-06T14:29:40.246675Z",
     "shell.execute_reply": "2021-10-06T14:29:40.245808Z",
     "shell.execute_reply.started": "2021-10-06T12:27:24.537213Z"
    },
    "papermill": {
     "duration": 4.030352,
     "end_time": "2021-10-06T14:29:40.246817",
     "exception": false,
     "start_time": "2021-10-06T14:29:36.216465",
     "status": "completed"
    },
    "tags": []
   },
   "outputs": [
    {
     "name": "stderr",
     "output_type": "stream",
     "text": [
      "2021-10-06 14:29:36.276228: I tensorflow/compiler/jit/xla_cpu_device.cc:41] Not creating XLA devices, tf_xla_enable_xla_devices not set\n",
      "2021-10-06 14:29:36.279480: I tensorflow/stream_executor/platform/default/dso_loader.cc:49] Successfully opened dynamic library libcuda.so.1\n",
      "2021-10-06 14:29:36.316135: I tensorflow/stream_executor/cuda/cuda_gpu_executor.cc:941] successful NUMA node read from SysFS had negative value (-1), but there must be at least one NUMA node, so returning NUMA node zero\n",
      "2021-10-06 14:29:36.316731: I tensorflow/core/common_runtime/gpu/gpu_device.cc:1720] Found device 0 with properties: \n",
      "pciBusID: 0000:00:04.0 name: Tesla P100-PCIE-16GB computeCapability: 6.0\n",
      "coreClock: 1.3285GHz coreCount: 56 deviceMemorySize: 15.90GiB deviceMemoryBandwidth: 681.88GiB/s\n",
      "2021-10-06 14:29:36.316780: I tensorflow/stream_executor/platform/default/dso_loader.cc:49] Successfully opened dynamic library libcudart.so.11.0\n",
      "2021-10-06 14:29:36.347371: I tensorflow/stream_executor/platform/default/dso_loader.cc:49] Successfully opened dynamic library libcublas.so.11\n",
      "2021-10-06 14:29:36.347460: I tensorflow/stream_executor/platform/default/dso_loader.cc:49] Successfully opened dynamic library libcublasLt.so.11\n",
      "2021-10-06 14:29:36.363648: I tensorflow/stream_executor/platform/default/dso_loader.cc:49] Successfully opened dynamic library libcufft.so.10\n",
      "2021-10-06 14:29:36.374010: I tensorflow/stream_executor/platform/default/dso_loader.cc:49] Successfully opened dynamic library libcurand.so.10\n",
      "2021-10-06 14:29:36.399953: I tensorflow/stream_executor/platform/default/dso_loader.cc:49] Successfully opened dynamic library libcusolver.so.10\n",
      "2021-10-06 14:29:36.407447: I tensorflow/stream_executor/platform/default/dso_loader.cc:49] Successfully opened dynamic library libcusparse.so.11\n",
      "2021-10-06 14:29:36.410167: I tensorflow/stream_executor/platform/default/dso_loader.cc:49] Successfully opened dynamic library libcudnn.so.8\n",
      "2021-10-06 14:29:36.410313: I tensorflow/stream_executor/cuda/cuda_gpu_executor.cc:941] successful NUMA node read from SysFS had negative value (-1), but there must be at least one NUMA node, so returning NUMA node zero\n",
      "2021-10-06 14:29:36.410944: I tensorflow/stream_executor/cuda/cuda_gpu_executor.cc:941] successful NUMA node read from SysFS had negative value (-1), but there must be at least one NUMA node, so returning NUMA node zero\n",
      "2021-10-06 14:29:36.412551: I tensorflow/core/common_runtime/gpu/gpu_device.cc:1862] Adding visible gpu devices: 0\n",
      "2021-10-06 14:29:36.413147: I tensorflow/core/platform/cpu_feature_guard.cc:142] This TensorFlow binary is optimized with oneAPI Deep Neural Network Library (oneDNN) to use the following CPU instructions in performance-critical operations:  AVX2 AVX512F FMA\n",
      "To enable them in other operations, rebuild TensorFlow with the appropriate compiler flags.\n",
      "2021-10-06 14:29:36.413325: I tensorflow/compiler/jit/xla_gpu_device.cc:99] Not creating XLA devices, tf_xla_enable_xla_devices not set\n",
      "2021-10-06 14:29:36.413474: I tensorflow/stream_executor/cuda/cuda_gpu_executor.cc:941] successful NUMA node read from SysFS had negative value (-1), but there must be at least one NUMA node, so returning NUMA node zero\n",
      "2021-10-06 14:29:36.414036: I tensorflow/core/common_runtime/gpu/gpu_device.cc:1720] Found device 0 with properties: \n",
      "pciBusID: 0000:00:04.0 name: Tesla P100-PCIE-16GB computeCapability: 6.0\n",
      "coreClock: 1.3285GHz coreCount: 56 deviceMemorySize: 15.90GiB deviceMemoryBandwidth: 681.88GiB/s\n",
      "2021-10-06 14:29:36.414098: I tensorflow/stream_executor/platform/default/dso_loader.cc:49] Successfully opened dynamic library libcudart.so.11.0\n",
      "2021-10-06 14:29:36.414126: I tensorflow/stream_executor/platform/default/dso_loader.cc:49] Successfully opened dynamic library libcublas.so.11\n",
      "2021-10-06 14:29:36.414142: I tensorflow/stream_executor/platform/default/dso_loader.cc:49] Successfully opened dynamic library libcublasLt.so.11\n",
      "2021-10-06 14:29:36.414159: I tensorflow/stream_executor/platform/default/dso_loader.cc:49] Successfully opened dynamic library libcufft.so.10\n",
      "2021-10-06 14:29:36.414175: I tensorflow/stream_executor/platform/default/dso_loader.cc:49] Successfully opened dynamic library libcurand.so.10\n",
      "2021-10-06 14:29:36.414190: I tensorflow/stream_executor/platform/default/dso_loader.cc:49] Successfully opened dynamic library libcusolver.so.10\n",
      "2021-10-06 14:29:36.414206: I tensorflow/stream_executor/platform/default/dso_loader.cc:49] Successfully opened dynamic library libcusparse.so.11\n",
      "2021-10-06 14:29:36.414222: I tensorflow/stream_executor/platform/default/dso_loader.cc:49] Successfully opened dynamic library libcudnn.so.8\n",
      "2021-10-06 14:29:36.414319: I tensorflow/stream_executor/cuda/cuda_gpu_executor.cc:941] successful NUMA node read from SysFS had negative value (-1), but there must be at least one NUMA node, so returning NUMA node zero\n",
      "2021-10-06 14:29:36.414912: I tensorflow/stream_executor/cuda/cuda_gpu_executor.cc:941] successful NUMA node read from SysFS had negative value (-1), but there must be at least one NUMA node, so returning NUMA node zero\n",
      "2021-10-06 14:29:36.415456: I tensorflow/core/common_runtime/gpu/gpu_device.cc:1862] Adding visible gpu devices: 0\n",
      "2021-10-06 14:29:36.416519: I tensorflow/stream_executor/platform/default/dso_loader.cc:49] Successfully opened dynamic library libcudart.so.11.0\n",
      "2021-10-06 14:29:37.829290: I tensorflow/core/common_runtime/gpu/gpu_device.cc:1261] Device interconnect StreamExecutor with strength 1 edge matrix:\n",
      "2021-10-06 14:29:37.829336: I tensorflow/core/common_runtime/gpu/gpu_device.cc:1267]      0 \n",
      "2021-10-06 14:29:37.829346: I tensorflow/core/common_runtime/gpu/gpu_device.cc:1280] 0:   N \n",
      "2021-10-06 14:29:37.831803: I tensorflow/stream_executor/cuda/cuda_gpu_executor.cc:941] successful NUMA node read from SysFS had negative value (-1), but there must be at least one NUMA node, so returning NUMA node zero\n",
      "2021-10-06 14:29:37.832548: I tensorflow/stream_executor/cuda/cuda_gpu_executor.cc:941] successful NUMA node read from SysFS had negative value (-1), but there must be at least one NUMA node, so returning NUMA node zero\n",
      "2021-10-06 14:29:37.833161: I tensorflow/stream_executor/cuda/cuda_gpu_executor.cc:941] successful NUMA node read from SysFS had negative value (-1), but there must be at least one NUMA node, so returning NUMA node zero\n",
      "2021-10-06 14:29:37.833703: I tensorflow/core/common_runtime/gpu/gpu_device.cc:1406] Created TensorFlow device (/job:localhost/replica:0/task:0/device:GPU:0 with 14957 MB memory) -> physical GPU (device: 0, name: Tesla P100-PCIE-16GB, pci bus id: 0000:00:04.0, compute capability: 6.0)\n"
     ]
    },
    {
     "name": "stdout",
     "output_type": "stream",
     "text": [
      "Downloading data from https://storage.googleapis.com/tensorflow/keras-applications/xception/xception_weights_tf_dim_ordering_tf_kernels_notop.h5\n",
      "83689472/83683744 [==============================] - 1s 0us/step\n"
     ]
    }
   ],
   "source": [
    "base_model = keras.applications.xception.Xception(weights='imagenet', include_top=False) #We dont include top, because we need our custom output\n",
    "avg = keras.layers.GlobalAveragePooling2D()(base_model.output)\n",
    "output = Dense(num_classes, activation=\"softmax\")(avg) #Softmax because of 6 classes\n",
    "model = keras.Model(inputs=base_model.input, outputs=output)\n",
    "\n",
    "#First freeze xception model parameters\n",
    "for layer in base_model.layers:\n",
    "  layer.trainable = False"
   ]
  },
  {
   "cell_type": "markdown",
   "id": "ae39effe",
   "metadata": {
    "papermill": {
     "duration": 0.027835,
     "end_time": "2021-10-06T14:29:40.301409",
     "exception": false,
     "start_time": "2021-10-06T14:29:40.273574",
     "status": "completed"
    },
    "tags": []
   },
   "source": [
    "Compile model"
   ]
  },
  {
   "cell_type": "code",
   "execution_count": 9,
   "id": "77b4f137",
   "metadata": {
    "execution": {
     "iopub.execute_input": "2021-10-06T14:29:40.367152Z",
     "iopub.status.busy": "2021-10-06T14:29:40.366326Z",
     "iopub.status.idle": "2021-10-06T14:29:40.373651Z",
     "shell.execute_reply": "2021-10-06T14:29:40.373240Z",
     "shell.execute_reply.started": "2021-10-06T12:29:23.195654Z"
    },
    "papermill": {
     "duration": 0.045624,
     "end_time": "2021-10-06T14:29:40.373760",
     "exception": false,
     "start_time": "2021-10-06T14:29:40.328136",
     "status": "completed"
    },
    "tags": []
   },
   "outputs": [],
   "source": [
    "optimizer = keras.optimizers.Adam(learning_rate)\n",
    "loss = keras.losses.CategoricalCrossentropy()\n",
    "model.compile(loss=loss, optimizer=optimizer, metrics=[\"accuracy\",\"Recall\", \"Precision\"])"
   ]
  },
  {
   "cell_type": "markdown",
   "id": "9b391c81",
   "metadata": {
    "papermill": {
     "duration": 0.026085,
     "end_time": "2021-10-06T14:29:40.426173",
     "exception": false,
     "start_time": "2021-10-06T14:29:40.400088",
     "status": "completed"
    },
    "tags": []
   },
   "source": [
    "Create early stopping to stop overfitting and model checkpoint to maximize validation dataset performance"
   ]
  },
  {
   "cell_type": "code",
   "execution_count": 10,
   "id": "69c30650",
   "metadata": {
    "execution": {
     "iopub.execute_input": "2021-10-06T14:29:40.483779Z",
     "iopub.status.busy": "2021-10-06T14:29:40.483217Z",
     "iopub.status.idle": "2021-10-06T14:29:40.485633Z",
     "shell.execute_reply": "2021-10-06T14:29:40.485992Z",
     "shell.execute_reply.started": "2021-10-06T12:30:15.266522Z"
    },
    "papermill": {
     "duration": 0.033567,
     "end_time": "2021-10-06T14:29:40.486125",
     "exception": false,
     "start_time": "2021-10-06T14:29:40.452558",
     "status": "completed"
    },
    "tags": []
   },
   "outputs": [],
   "source": [
    "checkpoints = keras.callbacks.ModelCheckpoint(\"mode.h5\", monitor='val_accuracy', mode=\"max\")\n",
    "earlystop = keras.callbacks.EarlyStopping(monitor='val_accuracy', mode=\"max\", patience=5)"
   ]
  },
  {
   "cell_type": "markdown",
   "id": "8f5fe898",
   "metadata": {
    "papermill": {
     "duration": 0.026223,
     "end_time": "2021-10-06T14:29:40.538601",
     "exception": false,
     "start_time": "2021-10-06T14:29:40.512378",
     "status": "completed"
    },
    "tags": []
   },
   "source": [
    "# First model training"
   ]
  },
  {
   "cell_type": "markdown",
   "id": "eab520fa",
   "metadata": {
    "papermill": {
     "duration": 0.026501,
     "end_time": "2021-10-06T14:29:40.592095",
     "exception": false,
     "start_time": "2021-10-06T14:29:40.565594",
     "status": "completed"
    },
    "tags": []
   },
   "source": [
    "First train top layer"
   ]
  },
  {
   "cell_type": "code",
   "execution_count": 11,
   "id": "cf09fe2f",
   "metadata": {
    "execution": {
     "iopub.execute_input": "2021-10-06T14:29:40.651930Z",
     "iopub.status.busy": "2021-10-06T14:29:40.651321Z",
     "iopub.status.idle": "2021-10-06T14:57:19.031888Z",
     "shell.execute_reply": "2021-10-06T14:57:19.033076Z",
     "shell.execute_reply.started": "2021-10-06T12:31:54.416159Z"
    },
    "papermill": {
     "duration": 1658.412917,
     "end_time": "2021-10-06T14:57:19.033278",
     "exception": false,
     "start_time": "2021-10-06T14:29:40.620361",
     "status": "completed"
    },
    "tags": []
   },
   "outputs": [
    {
     "name": "stderr",
     "output_type": "stream",
     "text": [
      "2021-10-06 14:29:40.918797: I tensorflow/compiler/mlir/mlir_graph_optimization_pass.cc:116] None of the MLIR optimization passes are enabled (registered 2)\n",
      "2021-10-06 14:29:40.923024: I tensorflow/core/platform/profile_utils/cpu_utils.cc:112] CPU Frequency: 2000175000 Hz\n"
     ]
    },
    {
     "name": "stdout",
     "output_type": "stream",
     "text": [
      "Epoch 1/150\n"
     ]
    },
    {
     "name": "stderr",
     "output_type": "stream",
     "text": [
      "2021-10-06 14:29:43.543371: I tensorflow/stream_executor/platform/default/dso_loader.cc:49] Successfully opened dynamic library libcublas.so.11\n",
      "2021-10-06 14:29:44.322368: I tensorflow/stream_executor/platform/default/dso_loader.cc:49] Successfully opened dynamic library libcublasLt.so.11\n",
      "2021-10-06 14:29:44.351234: I tensorflow/stream_executor/platform/default/dso_loader.cc:49] Successfully opened dynamic library libcudnn.so.8\n"
     ]
    },
    {
     "name": "stdout",
     "output_type": "stream",
     "text": [
      "746/746 [==============================] - 160s 203ms/step - loss: 1.1533 - accuracy: 0.5922 - recall: 0.2707 - precision: 0.7930 - val_loss: 0.5072 - val_accuracy: 0.8397 - val_recall: 0.7702 - val_precision: 0.8662\n",
      "Epoch 2/150\n",
      "746/746 [==============================] - 80s 107ms/step - loss: 0.5088 - accuracy: 0.8319 - recall: 0.7699 - precision: 0.8655 - val_loss: 0.4014 - val_accuracy: 0.8658 - val_recall: 0.8325 - val_precision: 0.8879\n",
      "Epoch 3/150\n",
      "746/746 [==============================] - 83s 112ms/step - loss: 0.4277 - accuracy: 0.8500 - recall: 0.8107 - precision: 0.8803 - val_loss: 0.3607 - val_accuracy: 0.8773 - val_recall: 0.8520 - val_precision: 0.8902\n",
      "Epoch 4/150\n",
      "746/746 [==============================] - 85s 113ms/step - loss: 0.3975 - accuracy: 0.8598 - recall: 0.8274 - precision: 0.8827 - val_loss: 0.3399 - val_accuracy: 0.8796 - val_recall: 0.8611 - val_precision: 0.8943\n",
      "Epoch 5/150\n",
      "746/746 [==============================] - 80s 107ms/step - loss: 0.3809 - accuracy: 0.8670 - recall: 0.8405 - precision: 0.8869 - val_loss: 0.3281 - val_accuracy: 0.8811 - val_recall: 0.8639 - val_precision: 0.8924\n",
      "Epoch 6/150\n",
      "746/746 [==============================] - 82s 110ms/step - loss: 0.3677 - accuracy: 0.8707 - recall: 0.8471 - precision: 0.8885 - val_loss: 0.3182 - val_accuracy: 0.8834 - val_recall: 0.8711 - val_precision: 0.8949\n",
      "Epoch 7/150\n",
      "746/746 [==============================] - 80s 107ms/step - loss: 0.3441 - accuracy: 0.8786 - recall: 0.8559 - precision: 0.8929 - val_loss: 0.3115 - val_accuracy: 0.8849 - val_recall: 0.8692 - val_precision: 0.8965\n",
      "Epoch 8/150\n",
      "746/746 [==============================] - 81s 109ms/step - loss: 0.3653 - accuracy: 0.8623 - recall: 0.8429 - precision: 0.8794 - val_loss: 0.3038 - val_accuracy: 0.8892 - val_recall: 0.8758 - val_precision: 0.9007\n",
      "Epoch 9/150\n",
      "746/746 [==============================] - 81s 109ms/step - loss: 0.3480 - accuracy: 0.8762 - recall: 0.8601 - precision: 0.8941 - val_loss: 0.3024 - val_accuracy: 0.8896 - val_recall: 0.8777 - val_precision: 0.9009\n",
      "Epoch 10/150\n",
      "746/746 [==============================] - 82s 110ms/step - loss: 0.3420 - accuracy: 0.8768 - recall: 0.8590 - precision: 0.8917 - val_loss: 0.3000 - val_accuracy: 0.8911 - val_recall: 0.8787 - val_precision: 0.9010\n",
      "Epoch 11/150\n",
      "746/746 [==============================] - 83s 112ms/step - loss: 0.3408 - accuracy: 0.8727 - recall: 0.8563 - precision: 0.8891 - val_loss: 0.2946 - val_accuracy: 0.8934 - val_recall: 0.8815 - val_precision: 0.9048\n",
      "Epoch 12/150\n",
      "746/746 [==============================] - 82s 110ms/step - loss: 0.3312 - accuracy: 0.8824 - recall: 0.8661 - precision: 0.8945 - val_loss: 0.2936 - val_accuracy: 0.8925 - val_recall: 0.8792 - val_precision: 0.9028\n",
      "Epoch 13/150\n",
      "746/746 [==============================] - 85s 114ms/step - loss: 0.3256 - accuracy: 0.8829 - recall: 0.8674 - precision: 0.8968 - val_loss: 0.2927 - val_accuracy: 0.8963 - val_recall: 0.8834 - val_precision: 0.9045\n",
      "Epoch 14/150\n",
      "746/746 [==============================] - 83s 111ms/step - loss: 0.3193 - accuracy: 0.8866 - recall: 0.8701 - precision: 0.8995 - val_loss: 0.2898 - val_accuracy: 0.8982 - val_recall: 0.8844 - val_precision: 0.9068\n",
      "Epoch 15/150\n",
      "746/746 [==============================] - 85s 114ms/step - loss: 0.3163 - accuracy: 0.8893 - recall: 0.8766 - precision: 0.9005 - val_loss: 0.2901 - val_accuracy: 0.8934 - val_recall: 0.8801 - val_precision: 0.9011\n",
      "Epoch 16/150\n",
      "746/746 [==============================] - 84s 112ms/step - loss: 0.3107 - accuracy: 0.8902 - recall: 0.8761 - precision: 0.9008 - val_loss: 0.2864 - val_accuracy: 0.8930 - val_recall: 0.8825 - val_precision: 0.9014\n",
      "Epoch 17/150\n",
      "746/746 [==============================] - 83s 111ms/step - loss: 0.3013 - accuracy: 0.8917 - recall: 0.8791 - precision: 0.9033 - val_loss: 0.2873 - val_accuracy: 0.8939 - val_recall: 0.8844 - val_precision: 0.9037\n",
      "Epoch 18/150\n",
      "746/746 [==============================] - 87s 116ms/step - loss: 0.3040 - accuracy: 0.8874 - recall: 0.8738 - precision: 0.8993 - val_loss: 0.2852 - val_accuracy: 0.8944 - val_recall: 0.8834 - val_precision: 0.9041\n",
      "Epoch 19/150\n",
      "746/746 [==============================] - 84s 113ms/step - loss: 0.3063 - accuracy: 0.8909 - recall: 0.8784 - precision: 0.9024 - val_loss: 0.2830 - val_accuracy: 0.8963 - val_recall: 0.8877 - val_precision: 0.9071\n"
     ]
    }
   ],
   "source": [
    "history = model.fit(train_dataset, validation_data=validation_dataset, epochs=epochs, callbacks=[checkpoints, earlystop])"
   ]
  },
  {
   "cell_type": "markdown",
   "id": "d2c09a8a",
   "metadata": {
    "papermill": {
     "duration": 4.224798,
     "end_time": "2021-10-06T14:57:26.992311",
     "exception": false,
     "start_time": "2021-10-06T14:57:22.767513",
     "status": "completed"
    },
    "tags": []
   },
   "source": [
    "# First model evaluation"
   ]
  },
  {
   "cell_type": "code",
   "execution_count": 12,
   "id": "b41b5b87",
   "metadata": {
    "execution": {
     "iopub.execute_input": "2021-10-06T14:57:34.699031Z",
     "iopub.status.busy": "2021-10-06T14:57:34.698127Z",
     "iopub.status.idle": "2021-10-06T14:57:34.900626Z",
     "shell.execute_reply": "2021-10-06T14:57:34.901270Z",
     "shell.execute_reply.started": "2021-10-06T13:06:14.217654Z"
    },
    "papermill": {
     "duration": 3.937489,
     "end_time": "2021-10-06T14:57:34.901420",
     "exception": false,
     "start_time": "2021-10-06T14:57:30.963931",
     "status": "completed"
    },
    "tags": []
   },
   "outputs": [
    {
     "data": {
      "image/png": "[encoded data removed]",
      "text/plain": [
       "<Figure size 432x288 with 1 Axes>"
      ]
     },
     "metadata": {
      "needs_background": "light"
     },
     "output_type": "display_data"
    }
   ],
   "source": [
    "plt.plot(history.history['loss'])\n",
    "plt.plot(history.history['val_loss'])\n",
    "plt.title('model loss')\n",
    "plt.ylabel('loss')\n",
    "plt.xlabel('epoch')\n",
    "plt.legend(['train', 'test'], loc='upper left')\n",
    "plt.show()"
   ]
  },
  {
   "cell_type": "code",
   "execution_count": 13,
   "id": "1714a1dc",
   "metadata": {
    "execution": {
     "iopub.execute_input": "2021-10-06T14:57:42.648442Z",
     "iopub.status.busy": "2021-10-06T14:57:42.647580Z",
     "iopub.status.idle": "2021-10-06T14:57:42.837097Z",
     "shell.execute_reply": "2021-10-06T14:57:42.837701Z",
     "shell.execute_reply.started": "2021-10-06T13:06:22.357885Z"
    },
    "papermill": {
     "duration": 4.216048,
     "end_time": "2021-10-06T14:57:42.837850",
     "exception": false,
     "start_time": "2021-10-06T14:57:38.621802",
     "status": "completed"
    },
    "tags": []
   },
   "outputs": [
    {
     "data": {
      "image/png": "[encoded data removed]",
      "text/plain": [
       "<Figure size 432x288 with 1 Axes>"
      ]
     },
     "metadata": {
      "needs_background": "light"
     },
     "output_type": "display_data"
    }
   ],
   "source": [
    "import matplotlib.pyplot as plt\n",
    "plt.plot(history.history['accuracy'])\n",
    "plt.plot(history.history['val_accuracy'])\n",
    "plt.title('model accuracy')\n",
    "plt.ylabel('accuracy')\n",
    "plt.xlabel('epoch')\n",
    "plt.legend(['train', 'test'], loc='upper left')\n",
    "plt.show()"
   ]
  },
  {
   "cell_type": "code",
   "execution_count": 14,
   "id": "6a45bb04",
   "metadata": {
    "execution": {
     "iopub.execute_input": "2021-10-06T14:57:50.511322Z",
     "iopub.status.busy": "2021-10-06T14:57:50.510726Z",
     "iopub.status.idle": "2021-10-06T14:57:54.213645Z",
     "shell.execute_reply": "2021-10-06T14:57:54.213235Z",
     "shell.execute_reply.started": "2021-10-06T13:06:35.497487Z"
    },
    "papermill": {
     "duration": 7.668718,
     "end_time": "2021-10-06T14:57:54.213763",
     "exception": false,
     "start_time": "2021-10-06T14:57:46.545045",
     "status": "completed"
    },
    "tags": []
   },
   "outputs": [
    {
     "name": "stdout",
     "output_type": "stream",
     "text": [
      "132/132 [==============================] - 4s 27ms/step - loss: 0.2830 - accuracy: 0.8963 - recall: 0.8877 - precision: 0.9071\n"
     ]
    },
    {
     "data": {
      "text/plain": [
       "[0.28304681181907654,\n",
       " 0.8962892293930054,\n",
       " 0.8877259492874146,\n",
       " 0.9071463346481323]"
      ]
     },
     "execution_count": 14,
     "metadata": {},
     "output_type": "execute_result"
    }
   ],
   "source": [
    "model.evaluate(validation_dataset)"
   ]
  },
  {
   "cell_type": "code",
   "execution_count": 15,
   "id": "afd1f21f",
   "metadata": {
    "execution": {
     "iopub.execute_input": "2021-10-06T14:58:02.516385Z",
     "iopub.status.busy": "2021-10-06T14:58:02.515721Z",
     "iopub.status.idle": "2021-10-06T14:59:23.387814Z",
     "shell.execute_reply": "2021-10-06T14:59:23.387374Z",
     "shell.execute_reply.started": "2021-10-06T13:06:51.782921Z"
    },
    "papermill": {
     "duration": 84.994762,
     "end_time": "2021-10-06T14:59:23.387942",
     "exception": false,
     "start_time": "2021-10-06T14:57:58.393180",
     "status": "completed"
    },
    "tags": []
   },
   "outputs": [
    {
     "name": "stdout",
     "output_type": "stream",
     "text": [
      "746/746 [==============================] - 81s 108ms/step - loss: 0.3060 - accuracy: 0.8885 - recall: 0.8748 - precision: 0.9010\n"
     ]
    },
    {
     "data": {
      "text/plain": [
       "[0.30602338910102844,\n",
       " 0.8884512186050415,\n",
       " 0.8747904896736145,\n",
       " 0.9009926915168762]"
      ]
     },
     "execution_count": 15,
     "metadata": {},
     "output_type": "execute_result"
    }
   ],
   "source": [
    "model.evaluate(train_dataset)"
   ]
  },
  {
   "cell_type": "code",
   "execution_count": 16,
   "id": "af9631bc",
   "metadata": {
    "execution": {
     "iopub.execute_input": "2021-10-06T14:59:31.495710Z",
     "iopub.status.busy": "2021-10-06T14:59:31.495119Z",
     "iopub.status.idle": "2021-10-06T14:59:51.396184Z",
     "shell.execute_reply": "2021-10-06T14:59:51.396613Z",
     "shell.execute_reply.started": "2021-10-06T13:09:26.528345Z"
    },
    "papermill": {
     "duration": 24.060446,
     "end_time": "2021-10-06T14:59:51.396760",
     "exception": false,
     "start_time": "2021-10-06T14:59:27.336314",
     "status": "completed"
    },
    "tags": []
   },
   "outputs": [
    {
     "name": "stdout",
     "output_type": "stream",
     "text": [
      "188/188 [==============================] - 20s 105ms/step - loss: 0.2893 - accuracy: 0.8947 - recall: 0.8850 - precision: 0.9000\n"
     ]
    },
    {
     "data": {
      "text/plain": [
       "[0.2893335521221161,\n",
       " 0.8946666717529297,\n",
       " 0.8849999904632568,\n",
       " 0.8999999761581421]"
      ]
     },
     "execution_count": 16,
     "metadata": {},
     "output_type": "execute_result"
    }
   ],
   "source": [
    "model.evaluate(test_dataset)"
   ]
  },
  {
   "cell_type": "markdown",
   "id": "962049fb",
   "metadata": {
    "papermill": {
     "duration": 3.938886,
     "end_time": "2021-10-06T14:59:59.304687",
     "exception": false,
     "start_time": "2021-10-06T14:59:55.365801",
     "status": "completed"
    },
    "tags": []
   },
   "source": [
    "Preety good fair model with ~90% accuracy, which generalize well."
   ]
  },
  {
   "cell_type": "markdown",
   "id": "923a66cc",
   "metadata": {
    "papermill": {
     "duration": 4.008566,
     "end_time": "2021-10-06T15:00:07.568758",
     "exception": false,
     "start_time": "2021-10-06T15:00:03.560192",
     "status": "completed"
    },
    "tags": []
   },
   "source": [
    "# Second model training"
   ]
  },
  {
   "cell_type": "markdown",
   "id": "d73fbd9e",
   "metadata": {
    "papermill": {
     "duration": 4.215934,
     "end_time": "2021-10-06T15:00:16.213184",
     "exception": false,
     "start_time": "2021-10-06T15:00:11.997250",
     "status": "completed"
    },
    "tags": []
   },
   "source": [
    "Let's try to finetune it on freezed xception layers now.\n",
    "We need to use smaller learning rate, because otherwise we can lose, a lot of already trained informations."
   ]
  },
  {
   "cell_type": "code",
   "execution_count": 17,
   "id": "41d8c137",
   "metadata": {
    "execution": {
     "iopub.execute_input": "2021-10-06T15:00:24.396655Z",
     "iopub.status.busy": "2021-10-06T15:00:24.395738Z",
     "iopub.status.idle": "2021-10-06T15:00:24.397415Z",
     "shell.execute_reply": "2021-10-06T15:00:24.398018Z",
     "shell.execute_reply.started": "2021-10-06T13:12:47.561244Z"
    },
    "papermill": {
     "duration": 4.230394,
     "end_time": "2021-10-06T15:00:24.398179",
     "exception": false,
     "start_time": "2021-10-06T15:00:20.167785",
     "status": "completed"
    },
    "tags": []
   },
   "outputs": [],
   "source": [
    "#Unfreezing layers\n",
    "for layers in base_model.layers:\n",
    "    layers.trainable = True"
   ]
  },
  {
   "cell_type": "code",
   "execution_count": 18,
   "id": "f6f8cc60",
   "metadata": {
    "execution": {
     "iopub.execute_input": "2021-10-06T15:00:32.455525Z",
     "iopub.status.busy": "2021-10-06T15:00:32.454744Z",
     "iopub.status.idle": "2021-10-06T15:00:32.465459Z",
     "shell.execute_reply": "2021-10-06T15:00:32.465031Z",
     "shell.execute_reply.started": "2021-10-06T13:13:00.972140Z"
    },
    "papermill": {
     "duration": 4.019748,
     "end_time": "2021-10-06T15:00:32.465578",
     "exception": false,
     "start_time": "2021-10-06T15:00:28.445830",
     "status": "completed"
    },
    "tags": []
   },
   "outputs": [],
   "source": [
    "#Smaller learning rate\n",
    "optimizer = keras.optimizers.Adam(0.00001)\n",
    "loss = keras.losses.CategoricalCrossentropy()\n",
    "model.compile(loss=loss, optimizer=optimizer, metrics=[\"accuracy\",\"Recall\", \"Precision\"])"
   ]
  },
  {
   "cell_type": "code",
   "execution_count": 19,
   "id": "18be8dde",
   "metadata": {
    "execution": {
     "iopub.execute_input": "2021-10-06T15:00:40.656189Z",
     "iopub.status.busy": "2021-10-06T15:00:40.655589Z",
     "iopub.status.idle": "2021-10-06T15:35:04.043372Z",
     "shell.execute_reply": "2021-10-06T15:35:04.042179Z",
     "shell.execute_reply.started": "2021-10-06T13:13:20.921367Z"
    },
    "papermill": {
     "duration": 2067.386913,
     "end_time": "2021-10-06T15:35:04.043538",
     "exception": false,
     "start_time": "2021-10-06T15:00:36.656625",
     "status": "completed"
    },
    "tags": []
   },
   "outputs": [
    {
     "name": "stdout",
     "output_type": "stream",
     "text": [
      "Epoch 1/150\n",
      "746/746 [==============================] - 115s 148ms/step - loss: 0.6785 - accuracy: 0.7638 - recall: 0.6407 - precision: 0.8548 - val_loss: 0.2986 - val_accuracy: 0.8953 - val_recall: 0.8806 - val_precision: 0.9056\n",
      "Epoch 2/150\n",
      "746/746 [==============================] - 125s 167ms/step - loss: 0.3933 - accuracy: 0.8649 - recall: 0.8320 - precision: 0.8887 - val_loss: 0.2555 - val_accuracy: 0.9110 - val_recall: 0.8977 - val_precision: 0.9209\n",
      "Epoch 3/150\n",
      "746/746 [==============================] - 107s 143ms/step - loss: 0.3505 - accuracy: 0.8730 - recall: 0.8504 - precision: 0.8938 - val_loss: 0.2333 - val_accuracy: 0.9182 - val_recall: 0.9129 - val_precision: 0.9253\n",
      "Epoch 4/150\n",
      "746/746 [==============================] - 110s 147ms/step - loss: 0.3152 - accuracy: 0.8884 - recall: 0.8716 - precision: 0.9060 - val_loss: 0.2244 - val_accuracy: 0.9210 - val_recall: 0.9139 - val_precision: 0.9280\n",
      "Epoch 5/150\n",
      "746/746 [==============================] - 109s 146ms/step - loss: 0.2837 - accuracy: 0.8984 - recall: 0.8831 - precision: 0.9119 - val_loss: 0.2180 - val_accuracy: 0.9267 - val_recall: 0.9220 - val_precision: 0.9331\n",
      "Epoch 6/150\n",
      "746/746 [==============================] - 110s 148ms/step - loss: 0.2496 - accuracy: 0.9122 - recall: 0.9033 - precision: 0.9246 - val_loss: 0.2118 - val_accuracy: 0.9248 - val_recall: 0.9215 - val_precision: 0.9317\n",
      "Epoch 7/150\n",
      "746/746 [==============================] - 108s 145ms/step - loss: 0.2429 - accuracy: 0.9134 - recall: 0.9037 - precision: 0.9267 - val_loss: 0.2082 - val_accuracy: 0.9282 - val_recall: 0.9244 - val_precision: 0.9323\n",
      "Epoch 8/150\n",
      "746/746 [==============================] - 110s 148ms/step - loss: 0.2260 - accuracy: 0.9209 - recall: 0.9117 - precision: 0.9319 - val_loss: 0.2055 - val_accuracy: 0.9272 - val_recall: 0.9253 - val_precision: 0.9333\n",
      "Epoch 9/150\n",
      "746/746 [==============================] - 114s 153ms/step - loss: 0.2111 - accuracy: 0.9284 - recall: 0.9195 - precision: 0.9357 - val_loss: 0.1997 - val_accuracy: 0.9315 - val_recall: 0.9277 - val_precision: 0.9361\n",
      "Epoch 10/150\n",
      "746/746 [==============================] - 113s 152ms/step - loss: 0.1985 - accuracy: 0.9335 - recall: 0.9252 - precision: 0.9408 - val_loss: 0.1988 - val_accuracy: 0.9305 - val_recall: 0.9272 - val_precision: 0.9366\n",
      "Epoch 11/150\n",
      "746/746 [==============================] - 116s 155ms/step - loss: 0.1776 - accuracy: 0.9382 - recall: 0.9306 - precision: 0.9439 - val_loss: 0.1975 - val_accuracy: 0.9324 - val_recall: 0.9282 - val_precision: 0.9389\n",
      "Epoch 12/150\n",
      "746/746 [==============================] - 109s 146ms/step - loss: 0.1684 - accuracy: 0.9398 - recall: 0.9335 - precision: 0.9456 - val_loss: 0.1960 - val_accuracy: 0.9324 - val_recall: 0.9305 - val_precision: 0.9386\n",
      "Epoch 13/150\n",
      "746/746 [==============================] - 114s 152ms/step - loss: 0.1570 - accuracy: 0.9436 - recall: 0.9370 - precision: 0.9499 - val_loss: 0.1931 - val_accuracy: 0.9396 - val_recall: 0.9358 - val_precision: 0.9434\n",
      "Epoch 14/150\n",
      "746/746 [==============================] - 109s 146ms/step - loss: 0.1546 - accuracy: 0.9459 - recall: 0.9399 - precision: 0.9504 - val_loss: 0.1990 - val_accuracy: 0.9324 - val_recall: 0.9296 - val_precision: 0.9381\n",
      "Epoch 15/150\n",
      "746/746 [==============================] - 127s 170ms/step - loss: 0.1421 - accuracy: 0.9507 - recall: 0.9457 - precision: 0.9558 - val_loss: 0.1971 - val_accuracy: 0.9358 - val_recall: 0.9315 - val_precision: 0.9409\n",
      "Epoch 16/150\n",
      "746/746 [==============================] - 127s 170ms/step - loss: 0.1328 - accuracy: 0.9536 - recall: 0.9495 - precision: 0.9581 - val_loss: 0.1967 - val_accuracy: 0.9372 - val_recall: 0.9320 - val_precision: 0.9427\n",
      "Epoch 17/150\n",
      "746/746 [==============================] - 110s 147ms/step - loss: 0.1271 - accuracy: 0.9571 - recall: 0.9524 - precision: 0.9603 - val_loss: 0.1966 - val_accuracy: 0.9377 - val_recall: 0.9324 - val_precision: 0.9414\n",
      "Epoch 18/150\n",
      "746/746 [==============================] - 113s 152ms/step - loss: 0.1083 - accuracy: 0.9633 - recall: 0.9596 - precision: 0.9675 - val_loss: 0.1996 - val_accuracy: 0.9348 - val_recall: 0.9315 - val_precision: 0.9391\n"
     ]
    }
   ],
   "source": [
    "history_finetune = model.fit(train_dataset, validation_data=validation_dataset, epochs=epochs,callbacks=[checkpoints, earlystop])"
   ]
  },
  {
   "cell_type": "markdown",
   "id": "86088829",
   "metadata": {
    "papermill": {
     "duration": 8.417613,
     "end_time": "2021-10-06T15:35:19.951511",
     "exception": false,
     "start_time": "2021-10-06T15:35:11.533898",
     "status": "completed"
    },
    "tags": []
   },
   "source": [
    "# Second model evaluation"
   ]
  },
  {
   "cell_type": "code",
   "execution_count": 20,
   "id": "c9b383c0",
   "metadata": {
    "execution": {
     "iopub.execute_input": "2021-10-06T15:35:35.171281Z",
     "iopub.status.busy": "2021-10-06T15:35:35.170758Z",
     "iopub.status.idle": "2021-10-06T15:35:39.125736Z",
     "shell.execute_reply": "2021-10-06T15:35:39.125263Z",
     "shell.execute_reply.started": "2021-10-06T14:00:55.053197Z"
    },
    "papermill": {
     "duration": 11.420879,
     "end_time": "2021-10-06T15:35:39.125868",
     "exception": false,
     "start_time": "2021-10-06T15:35:27.704989",
     "status": "completed"
    },
    "tags": []
   },
   "outputs": [
    {
     "name": "stdout",
     "output_type": "stream",
     "text": [
      "132/132 [==============================] - 4s 29ms/step - loss: 0.1996 - accuracy: 0.9348 - recall: 0.9315 - precision: 0.9391\n"
     ]
    },
    {
     "data": {
      "text/plain": [
       "[0.19963590800762177,\n",
       " 0.9348239898681641,\n",
       " 0.9314938187599182,\n",
       " 0.9390887022018433]"
      ]
     },
     "execution_count": 20,
     "metadata": {},
     "output_type": "execute_result"
    }
   ],
   "source": [
    "model.evaluate(validation_dataset)"
   ]
  },
  {
   "cell_type": "code",
   "execution_count": 21,
   "id": "d2a397ca",
   "metadata": {
    "execution": {
     "iopub.execute_input": "2021-10-06T15:35:55.054196Z",
     "iopub.status.busy": "2021-10-06T15:35:55.053511Z",
     "iopub.status.idle": "2021-10-06T15:37:16.240290Z",
     "shell.execute_reply": "2021-10-06T15:37:16.240746Z",
     "shell.execute_reply.started": "2021-10-06T14:01:05.134424Z"
    },
    "papermill": {
     "duration": 89.588483,
     "end_time": "2021-10-06T15:37:16.240951",
     "exception": false,
     "start_time": "2021-10-06T15:35:46.652468",
     "status": "completed"
    },
    "tags": []
   },
   "outputs": [
    {
     "name": "stdout",
     "output_type": "stream",
     "text": [
      "746/746 [==============================] - 81s 109ms/step - loss: 0.0639 - accuracy: 0.9790 - recall: 0.9779 - precision: 0.9798\n"
     ]
    },
    {
     "data": {
      "text/plain": [
       "[0.06386047601699829,\n",
       " 0.979047954082489,\n",
       " 0.9778746366500854,\n",
       " 0.9797632098197937]"
      ]
     },
     "execution_count": 21,
     "metadata": {},
     "output_type": "execute_result"
    }
   ],
   "source": [
    "model.evaluate(train_dataset)"
   ]
  },
  {
   "cell_type": "code",
   "execution_count": 22,
   "id": "10b4f38e",
   "metadata": {
    "execution": {
     "iopub.execute_input": "2021-10-06T15:37:32.423755Z",
     "iopub.status.busy": "2021-10-06T15:37:32.423140Z",
     "iopub.status.idle": "2021-10-06T15:37:40.842390Z",
     "shell.execute_reply": "2021-10-06T15:37:40.842791Z",
     "shell.execute_reply.started": "2021-10-06T14:02:25.538610Z"
    },
    "papermill": {
     "duration": 16.700814,
     "end_time": "2021-10-06T15:37:40.842949",
     "exception": false,
     "start_time": "2021-10-06T15:37:24.142135",
     "status": "completed"
    },
    "tags": []
   },
   "outputs": [
    {
     "name": "stdout",
     "output_type": "stream",
     "text": [
      "188/188 [==============================] - 8s 44ms/step - loss: 0.2038 - accuracy: 0.9307 - recall: 0.9283 - precision: 0.9327\n"
     ]
    },
    {
     "data": {
      "text/plain": [
       "[0.20381760597229004,\n",
       " 0.9306666851043701,\n",
       " 0.9283333420753479,\n",
       " 0.9326858520507812]"
      ]
     },
     "execution_count": 22,
     "metadata": {},
     "output_type": "execute_result"
    }
   ],
   "source": [
    "model.evaluate(test_dataset)"
   ]
  },
  {
   "cell_type": "code",
   "execution_count": 23,
   "id": "05ad8681",
   "metadata": {
    "execution": {
     "iopub.execute_input": "2021-10-06T15:37:56.840834Z",
     "iopub.status.busy": "2021-10-06T15:37:56.840075Z",
     "iopub.status.idle": "2021-10-06T15:37:57.077954Z",
     "shell.execute_reply": "2021-10-06T15:37:57.078629Z",
     "shell.execute_reply.started": "2021-10-06T14:02:30.725662Z"
    },
    "papermill": {
     "duration": 8.306007,
     "end_time": "2021-10-06T15:37:57.078779",
     "exception": false,
     "start_time": "2021-10-06T15:37:48.772772",
     "status": "completed"
    },
    "tags": []
   },
   "outputs": [
    {
     "data": {
      "image/png": "[encoded data removed]",
      "text/plain": [
       "<Figure size 432x288 with 1 Axes>"
      ]
     },
     "metadata": {
      "needs_background": "light"
     },
     "output_type": "display_data"
    }
   ],
   "source": [
    "plt.plot(history_finetune.history['loss'])\n",
    "plt.plot(history_finetune.history['val_loss'])\n",
    "plt.title('model loss')\n",
    "plt.ylabel('loss')\n",
    "plt.xlabel('epoch')\n",
    "plt.legend(['train', 'test'], loc='upper left')\n",
    "plt.show()"
   ]
  },
  {
   "cell_type": "code",
   "execution_count": 24,
   "id": "70dffa88",
   "metadata": {
    "execution": {
     "iopub.execute_input": "2021-10-06T15:38:13.418726Z",
     "iopub.status.busy": "2021-10-06T15:38:13.414827Z",
     "iopub.status.idle": "2021-10-06T15:38:13.617670Z",
     "shell.execute_reply": "2021-10-06T15:38:13.618043Z",
     "shell.execute_reply.started": "2021-10-06T14:02:31.120397Z"
    },
    "papermill": {
     "duration": 8.190927,
     "end_time": "2021-10-06T15:38:13.618204",
     "exception": false,
     "start_time": "2021-10-06T15:38:05.427277",
     "status": "completed"
    },
    "tags": []
   },
   "outputs": [
    {
     "data": {
      "image/png": "[encoded data removed]",
      "text/plain": [
       "<Figure size 432x288 with 1 Axes>"
      ]
     },
     "metadata": {
      "needs_background": "light"
     },
     "output_type": "display_data"
    }
   ],
   "source": [
    "plt.plot(history_finetune.history['accuracy'])\n",
    "plt.plot(history_finetune.history['val_accuracy'])\n",
    "plt.title('model accuracy')\n",
    "plt.ylabel('accuracy')\n",
    "plt.xlabel('epoch')\n",
    "plt.legend(['train', 'test'], loc='upper left')\n",
    "plt.show()"
   ]
  }
 ],
 "metadata": {
  "kernelspec": {
   "display_name": "Python 3",
   "language": "python",
   "name": "python3"
  },
  "language_info": {
   "codemirror_mode": {
    "name": "ipython",
    "version": 3
   },
   "file_extension": ".py",
   "mimetype": "text/x-python",
   "name": "python",
   "nbconvert_exporter": "python",
   "pygments_lexer": "ipython3",
   "version": "3.7.10"
  },
  "papermill": {
   "default_parameters": {},
   "duration": 4160.323719,
   "end_time": "2021-10-06T15:38:24.567465",
   "environment_variables": {},
   "exception": null,
   "input_path": "__notebook__.ipynb",
   "output_path": "__notebook__.ipynb",
   "parameters": {},
   "start_time": "2021-10-06T14:29:04.243746",
   "version": "2.3.3"
  }
 },
 "nbformat": 4,
 "nbformat_minor": 5
}
